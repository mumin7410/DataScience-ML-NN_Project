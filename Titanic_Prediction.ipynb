{
  "nbformat": 4,
  "nbformat_minor": 0,
  "metadata": {
    "colab": {
      "name": "Titanic project1.ipynb",
      "provenance": [],
      "collapsed_sections": [
        "aoQJOTv9P_up"
      ],
      "toc_visible": true
    },
    "kernelspec": {
      "name": "python3",
      "display_name": "Python 3"
    }
  },
  "cells": [
    {
      "cell_type": "code",
      "metadata": {
        "id": "VgfEahp3O_KC",
        "colab_type": "code",
        "colab": {}
      },
      "source": [
        "import pandas as pd\n",
        "import seaborn as sns\n",
        "import matplotlib.pyplot as plt"
      ],
      "execution_count": 41,
      "outputs": []
    },
    {
      "cell_type": "code",
      "metadata": {
        "id": "HsDQZZHsPQUU",
        "colab_type": "code",
        "colab": {
          "base_uri": "https://localhost:8080/",
          "height": 255
        },
        "outputId": "92a4a04f-74b7-4b48-f483-6c93739b685d"
      },
      "source": [
        "df = pd.read_csv('train.csv')\n",
        "df.head()"
      ],
      "execution_count": 42,
      "outputs": [
        {
          "output_type": "execute_result",
          "data": {
            "text/html": [
              "<div>\n",
              "<style scoped>\n",
              "    .dataframe tbody tr th:only-of-type {\n",
              "        vertical-align: middle;\n",
              "    }\n",
              "\n",
              "    .dataframe tbody tr th {\n",
              "        vertical-align: top;\n",
              "    }\n",
              "\n",
              "    .dataframe thead th {\n",
              "        text-align: right;\n",
              "    }\n",
              "</style>\n",
              "<table border=\"1\" class=\"dataframe\">\n",
              "  <thead>\n",
              "    <tr style=\"text-align: right;\">\n",
              "      <th></th>\n",
              "      <th>PassengerId</th>\n",
              "      <th>Survived</th>\n",
              "      <th>Pclass</th>\n",
              "      <th>Name</th>\n",
              "      <th>Sex</th>\n",
              "      <th>Age</th>\n",
              "      <th>SibSp</th>\n",
              "      <th>Parch</th>\n",
              "      <th>Ticket</th>\n",
              "      <th>Fare</th>\n",
              "      <th>Cabin</th>\n",
              "      <th>Embarked</th>\n",
              "    </tr>\n",
              "  </thead>\n",
              "  <tbody>\n",
              "    <tr>\n",
              "      <th>0</th>\n",
              "      <td>1</td>\n",
              "      <td>0</td>\n",
              "      <td>3</td>\n",
              "      <td>Braund, Mr. Owen Harris</td>\n",
              "      <td>male</td>\n",
              "      <td>22.0</td>\n",
              "      <td>1</td>\n",
              "      <td>0</td>\n",
              "      <td>A/5 21171</td>\n",
              "      <td>7.2500</td>\n",
              "      <td>NaN</td>\n",
              "      <td>S</td>\n",
              "    </tr>\n",
              "    <tr>\n",
              "      <th>1</th>\n",
              "      <td>2</td>\n",
              "      <td>1</td>\n",
              "      <td>1</td>\n",
              "      <td>Cumings, Mrs. John Bradley (Florence Briggs Th...</td>\n",
              "      <td>female</td>\n",
              "      <td>38.0</td>\n",
              "      <td>1</td>\n",
              "      <td>0</td>\n",
              "      <td>PC 17599</td>\n",
              "      <td>71.2833</td>\n",
              "      <td>C85</td>\n",
              "      <td>C</td>\n",
              "    </tr>\n",
              "    <tr>\n",
              "      <th>2</th>\n",
              "      <td>3</td>\n",
              "      <td>1</td>\n",
              "      <td>3</td>\n",
              "      <td>Heikkinen, Miss. Laina</td>\n",
              "      <td>female</td>\n",
              "      <td>26.0</td>\n",
              "      <td>0</td>\n",
              "      <td>0</td>\n",
              "      <td>STON/O2. 3101282</td>\n",
              "      <td>7.9250</td>\n",
              "      <td>NaN</td>\n",
              "      <td>S</td>\n",
              "    </tr>\n",
              "    <tr>\n",
              "      <th>3</th>\n",
              "      <td>4</td>\n",
              "      <td>1</td>\n",
              "      <td>1</td>\n",
              "      <td>Futrelle, Mrs. Jacques Heath (Lily May Peel)</td>\n",
              "      <td>female</td>\n",
              "      <td>35.0</td>\n",
              "      <td>1</td>\n",
              "      <td>0</td>\n",
              "      <td>113803</td>\n",
              "      <td>53.1000</td>\n",
              "      <td>C123</td>\n",
              "      <td>S</td>\n",
              "    </tr>\n",
              "    <tr>\n",
              "      <th>4</th>\n",
              "      <td>5</td>\n",
              "      <td>0</td>\n",
              "      <td>3</td>\n",
              "      <td>Allen, Mr. William Henry</td>\n",
              "      <td>male</td>\n",
              "      <td>35.0</td>\n",
              "      <td>0</td>\n",
              "      <td>0</td>\n",
              "      <td>373450</td>\n",
              "      <td>8.0500</td>\n",
              "      <td>NaN</td>\n",
              "      <td>S</td>\n",
              "    </tr>\n",
              "  </tbody>\n",
              "</table>\n",
              "</div>"
            ],
            "text/plain": [
              "   PassengerId  Survived  Pclass  ...     Fare Cabin  Embarked\n",
              "0            1         0       3  ...   7.2500   NaN         S\n",
              "1            2         1       1  ...  71.2833   C85         C\n",
              "2            3         1       3  ...   7.9250   NaN         S\n",
              "3            4         1       1  ...  53.1000  C123         S\n",
              "4            5         0       3  ...   8.0500   NaN         S\n",
              "\n",
              "[5 rows x 12 columns]"
            ]
          },
          "metadata": {
            "tags": []
          },
          "execution_count": 42
        }
      ]
    },
    {
      "cell_type": "code",
      "metadata": {
        "id": "KIRpDAnsjLwH",
        "colab_type": "code",
        "colab": {}
      },
      "source": [
        "dt = pd.read_csv('test.csv')"
      ],
      "execution_count": 43,
      "outputs": []
    },
    {
      "cell_type": "code",
      "metadata": {
        "id": "AoefVewEDV2T",
        "colab_type": "code",
        "colab": {}
      },
      "source": [
        "dy = pd.read_csv('gender_submission.csv')"
      ],
      "execution_count": 44,
      "outputs": []
    },
    {
      "cell_type": "code",
      "metadata": {
        "id": "gyhLK4fwPf3A",
        "colab_type": "code",
        "colab": {
          "base_uri": "https://localhost:8080/",
          "height": 340
        },
        "outputId": "f58e17a8-0a13-49c2-8b9e-b0ab0ef93c7b"
      },
      "source": [
        "df.info()"
      ],
      "execution_count": 45,
      "outputs": [
        {
          "output_type": "stream",
          "text": [
            "<class 'pandas.core.frame.DataFrame'>\n",
            "RangeIndex: 891 entries, 0 to 890\n",
            "Data columns (total 12 columns):\n",
            " #   Column       Non-Null Count  Dtype  \n",
            "---  ------       --------------  -----  \n",
            " 0   PassengerId  891 non-null    int64  \n",
            " 1   Survived     891 non-null    int64  \n",
            " 2   Pclass       891 non-null    int64  \n",
            " 3   Name         891 non-null    object \n",
            " 4   Sex          891 non-null    object \n",
            " 5   Age          714 non-null    float64\n",
            " 6   SibSp        891 non-null    int64  \n",
            " 7   Parch        891 non-null    int64  \n",
            " 8   Ticket       891 non-null    object \n",
            " 9   Fare         891 non-null    float64\n",
            " 10  Cabin        204 non-null    object \n",
            " 11  Embarked     889 non-null    object \n",
            "dtypes: float64(2), int64(5), object(5)\n",
            "memory usage: 83.7+ KB\n"
          ],
          "name": "stdout"
        }
      ]
    },
    {
      "cell_type": "code",
      "metadata": {
        "id": "aSGjutKmmZ6v",
        "colab_type": "code",
        "colab": {
          "base_uri": "https://localhost:8080/",
          "height": 323
        },
        "outputId": "0f97b035-2c1e-4946-e860-d9c6c3a0413f"
      },
      "source": [
        "dt.info()"
      ],
      "execution_count": 46,
      "outputs": [
        {
          "output_type": "stream",
          "text": [
            "<class 'pandas.core.frame.DataFrame'>\n",
            "RangeIndex: 418 entries, 0 to 417\n",
            "Data columns (total 11 columns):\n",
            " #   Column       Non-Null Count  Dtype  \n",
            "---  ------       --------------  -----  \n",
            " 0   PassengerId  418 non-null    int64  \n",
            " 1   Pclass       418 non-null    int64  \n",
            " 2   Name         418 non-null    object \n",
            " 3   Sex          418 non-null    object \n",
            " 4   Age          332 non-null    float64\n",
            " 5   SibSp        418 non-null    int64  \n",
            " 6   Parch        418 non-null    int64  \n",
            " 7   Ticket       418 non-null    object \n",
            " 8   Fare         417 non-null    float64\n",
            " 9   Cabin        91 non-null     object \n",
            " 10  Embarked     418 non-null    object \n",
            "dtypes: float64(2), int64(4), object(5)\n",
            "memory usage: 36.0+ KB\n"
          ],
          "name": "stdout"
        }
      ]
    },
    {
      "cell_type": "markdown",
      "metadata": {
        "id": "aoQJOTv9P_up",
        "colab_type": "text"
      },
      "source": [
        "##Analysis\n"
      ]
    },
    {
      "cell_type": "code",
      "metadata": {
        "id": "3tF_PJcAP4Q3",
        "colab_type": "code",
        "colab": {
          "base_uri": "https://localhost:8080/",
          "height": 0
        },
        "outputId": "5a657064-42a8-4c7c-ddc0-879f35045780"
      },
      "source": [
        "#analyze by describing\n",
        "df.describe()"
      ],
      "execution_count": 47,
      "outputs": [
        {
          "output_type": "execute_result",
          "data": {
            "text/html": [
              "<div>\n",
              "<style scoped>\n",
              "    .dataframe tbody tr th:only-of-type {\n",
              "        vertical-align: middle;\n",
              "    }\n",
              "\n",
              "    .dataframe tbody tr th {\n",
              "        vertical-align: top;\n",
              "    }\n",
              "\n",
              "    .dataframe thead th {\n",
              "        text-align: right;\n",
              "    }\n",
              "</style>\n",
              "<table border=\"1\" class=\"dataframe\">\n",
              "  <thead>\n",
              "    <tr style=\"text-align: right;\">\n",
              "      <th></th>\n",
              "      <th>PassengerId</th>\n",
              "      <th>Survived</th>\n",
              "      <th>Pclass</th>\n",
              "      <th>Age</th>\n",
              "      <th>SibSp</th>\n",
              "      <th>Parch</th>\n",
              "      <th>Fare</th>\n",
              "    </tr>\n",
              "  </thead>\n",
              "  <tbody>\n",
              "    <tr>\n",
              "      <th>count</th>\n",
              "      <td>891.000000</td>\n",
              "      <td>891.000000</td>\n",
              "      <td>891.000000</td>\n",
              "      <td>714.000000</td>\n",
              "      <td>891.000000</td>\n",
              "      <td>891.000000</td>\n",
              "      <td>891.000000</td>\n",
              "    </tr>\n",
              "    <tr>\n",
              "      <th>mean</th>\n",
              "      <td>446.000000</td>\n",
              "      <td>0.383838</td>\n",
              "      <td>2.308642</td>\n",
              "      <td>29.699118</td>\n",
              "      <td>0.523008</td>\n",
              "      <td>0.381594</td>\n",
              "      <td>32.204208</td>\n",
              "    </tr>\n",
              "    <tr>\n",
              "      <th>std</th>\n",
              "      <td>257.353842</td>\n",
              "      <td>0.486592</td>\n",
              "      <td>0.836071</td>\n",
              "      <td>14.526497</td>\n",
              "      <td>1.102743</td>\n",
              "      <td>0.806057</td>\n",
              "      <td>49.693429</td>\n",
              "    </tr>\n",
              "    <tr>\n",
              "      <th>min</th>\n",
              "      <td>1.000000</td>\n",
              "      <td>0.000000</td>\n",
              "      <td>1.000000</td>\n",
              "      <td>0.420000</td>\n",
              "      <td>0.000000</td>\n",
              "      <td>0.000000</td>\n",
              "      <td>0.000000</td>\n",
              "    </tr>\n",
              "    <tr>\n",
              "      <th>25%</th>\n",
              "      <td>223.500000</td>\n",
              "      <td>0.000000</td>\n",
              "      <td>2.000000</td>\n",
              "      <td>20.125000</td>\n",
              "      <td>0.000000</td>\n",
              "      <td>0.000000</td>\n",
              "      <td>7.910400</td>\n",
              "    </tr>\n",
              "    <tr>\n",
              "      <th>50%</th>\n",
              "      <td>446.000000</td>\n",
              "      <td>0.000000</td>\n",
              "      <td>3.000000</td>\n",
              "      <td>28.000000</td>\n",
              "      <td>0.000000</td>\n",
              "      <td>0.000000</td>\n",
              "      <td>14.454200</td>\n",
              "    </tr>\n",
              "    <tr>\n",
              "      <th>75%</th>\n",
              "      <td>668.500000</td>\n",
              "      <td>1.000000</td>\n",
              "      <td>3.000000</td>\n",
              "      <td>38.000000</td>\n",
              "      <td>1.000000</td>\n",
              "      <td>0.000000</td>\n",
              "      <td>31.000000</td>\n",
              "    </tr>\n",
              "    <tr>\n",
              "      <th>max</th>\n",
              "      <td>891.000000</td>\n",
              "      <td>1.000000</td>\n",
              "      <td>3.000000</td>\n",
              "      <td>80.000000</td>\n",
              "      <td>8.000000</td>\n",
              "      <td>6.000000</td>\n",
              "      <td>512.329200</td>\n",
              "    </tr>\n",
              "  </tbody>\n",
              "</table>\n",
              "</div>"
            ],
            "text/plain": [
              "       PassengerId    Survived      Pclass  ...       SibSp       Parch        Fare\n",
              "count   891.000000  891.000000  891.000000  ...  891.000000  891.000000  891.000000\n",
              "mean    446.000000    0.383838    2.308642  ...    0.523008    0.381594   32.204208\n",
              "std     257.353842    0.486592    0.836071  ...    1.102743    0.806057   49.693429\n",
              "min       1.000000    0.000000    1.000000  ...    0.000000    0.000000    0.000000\n",
              "25%     223.500000    0.000000    2.000000  ...    0.000000    0.000000    7.910400\n",
              "50%     446.000000    0.000000    3.000000  ...    0.000000    0.000000   14.454200\n",
              "75%     668.500000    1.000000    3.000000  ...    1.000000    0.000000   31.000000\n",
              "max     891.000000    1.000000    3.000000  ...    8.000000    6.000000  512.329200\n",
              "\n",
              "[8 rows x 7 columns]"
            ]
          },
          "metadata": {
            "tags": []
          },
          "execution_count": 47
        }
      ]
    },
    {
      "cell_type": "code",
      "metadata": {
        "id": "HjRIIF6gQpgB",
        "colab_type": "code",
        "colab": {
          "base_uri": "https://localhost:8080/",
          "height": 0
        },
        "outputId": "5dac5f44-b7ef-4173-b46a-84e3e3d9116f"
      },
      "source": [
        "df.describe(include=['O'])"
      ],
      "execution_count": 48,
      "outputs": [
        {
          "output_type": "execute_result",
          "data": {
            "text/html": [
              "<div>\n",
              "<style scoped>\n",
              "    .dataframe tbody tr th:only-of-type {\n",
              "        vertical-align: middle;\n",
              "    }\n",
              "\n",
              "    .dataframe tbody tr th {\n",
              "        vertical-align: top;\n",
              "    }\n",
              "\n",
              "    .dataframe thead th {\n",
              "        text-align: right;\n",
              "    }\n",
              "</style>\n",
              "<table border=\"1\" class=\"dataframe\">\n",
              "  <thead>\n",
              "    <tr style=\"text-align: right;\">\n",
              "      <th></th>\n",
              "      <th>Name</th>\n",
              "      <th>Sex</th>\n",
              "      <th>Ticket</th>\n",
              "      <th>Cabin</th>\n",
              "      <th>Embarked</th>\n",
              "    </tr>\n",
              "  </thead>\n",
              "  <tbody>\n",
              "    <tr>\n",
              "      <th>count</th>\n",
              "      <td>891</td>\n",
              "      <td>891</td>\n",
              "      <td>891</td>\n",
              "      <td>204</td>\n",
              "      <td>889</td>\n",
              "    </tr>\n",
              "    <tr>\n",
              "      <th>unique</th>\n",
              "      <td>891</td>\n",
              "      <td>2</td>\n",
              "      <td>681</td>\n",
              "      <td>147</td>\n",
              "      <td>3</td>\n",
              "    </tr>\n",
              "    <tr>\n",
              "      <th>top</th>\n",
              "      <td>Harper, Miss. Annie Jessie \"Nina\"</td>\n",
              "      <td>male</td>\n",
              "      <td>CA. 2343</td>\n",
              "      <td>B96 B98</td>\n",
              "      <td>S</td>\n",
              "    </tr>\n",
              "    <tr>\n",
              "      <th>freq</th>\n",
              "      <td>1</td>\n",
              "      <td>577</td>\n",
              "      <td>7</td>\n",
              "      <td>4</td>\n",
              "      <td>644</td>\n",
              "    </tr>\n",
              "  </tbody>\n",
              "</table>\n",
              "</div>"
            ],
            "text/plain": [
              "                                     Name   Sex    Ticket    Cabin Embarked\n",
              "count                                 891   891       891      204      889\n",
              "unique                                891     2       681      147        3\n",
              "top     Harper, Miss. Annie Jessie \"Nina\"  male  CA. 2343  B96 B98        S\n",
              "freq                                    1   577         7        4      644"
            ]
          },
          "metadata": {
            "tags": []
          },
          "execution_count": 48
        }
      ]
    },
    {
      "cell_type": "code",
      "metadata": {
        "id": "XOLBqJNfRmSX",
        "colab_type": "code",
        "colab": {
          "base_uri": "https://localhost:8080/",
          "height": 0
        },
        "outputId": "c4d557ef-d183-42ae-febf-d473acb09886"
      },
      "source": [
        "#analyze by pivotting\n",
        "df[['Pclass','Survived']].groupby(['Pclass'], as_index=False).mean().sort_values(by='Survived',ascending=False)"
      ],
      "execution_count": 49,
      "outputs": [
        {
          "output_type": "execute_result",
          "data": {
            "text/html": [
              "<div>\n",
              "<style scoped>\n",
              "    .dataframe tbody tr th:only-of-type {\n",
              "        vertical-align: middle;\n",
              "    }\n",
              "\n",
              "    .dataframe tbody tr th {\n",
              "        vertical-align: top;\n",
              "    }\n",
              "\n",
              "    .dataframe thead th {\n",
              "        text-align: right;\n",
              "    }\n",
              "</style>\n",
              "<table border=\"1\" class=\"dataframe\">\n",
              "  <thead>\n",
              "    <tr style=\"text-align: right;\">\n",
              "      <th></th>\n",
              "      <th>Pclass</th>\n",
              "      <th>Survived</th>\n",
              "    </tr>\n",
              "  </thead>\n",
              "  <tbody>\n",
              "    <tr>\n",
              "      <th>0</th>\n",
              "      <td>1</td>\n",
              "      <td>0.629630</td>\n",
              "    </tr>\n",
              "    <tr>\n",
              "      <th>1</th>\n",
              "      <td>2</td>\n",
              "      <td>0.472826</td>\n",
              "    </tr>\n",
              "    <tr>\n",
              "      <th>2</th>\n",
              "      <td>3</td>\n",
              "      <td>0.242363</td>\n",
              "    </tr>\n",
              "  </tbody>\n",
              "</table>\n",
              "</div>"
            ],
            "text/plain": [
              "   Pclass  Survived\n",
              "0       1  0.629630\n",
              "1       2  0.472826\n",
              "2       3  0.242363"
            ]
          },
          "metadata": {
            "tags": []
          },
          "execution_count": 49
        }
      ]
    },
    {
      "cell_type": "code",
      "metadata": {
        "id": "mwfm71a4YCGr",
        "colab_type": "code",
        "colab": {
          "base_uri": "https://localhost:8080/",
          "height": 0
        },
        "outputId": "c2b3cd77-6f29-46aa-c746-afec11990d55"
      },
      "source": [
        "df[['Sex','Survived']].groupby(['Sex'], as_index=False).mean().sort_values(by='Survived',ascending=False)"
      ],
      "execution_count": 50,
      "outputs": [
        {
          "output_type": "execute_result",
          "data": {
            "text/html": [
              "<div>\n",
              "<style scoped>\n",
              "    .dataframe tbody tr th:only-of-type {\n",
              "        vertical-align: middle;\n",
              "    }\n",
              "\n",
              "    .dataframe tbody tr th {\n",
              "        vertical-align: top;\n",
              "    }\n",
              "\n",
              "    .dataframe thead th {\n",
              "        text-align: right;\n",
              "    }\n",
              "</style>\n",
              "<table border=\"1\" class=\"dataframe\">\n",
              "  <thead>\n",
              "    <tr style=\"text-align: right;\">\n",
              "      <th></th>\n",
              "      <th>Sex</th>\n",
              "      <th>Survived</th>\n",
              "    </tr>\n",
              "  </thead>\n",
              "  <tbody>\n",
              "    <tr>\n",
              "      <th>0</th>\n",
              "      <td>female</td>\n",
              "      <td>0.742038</td>\n",
              "    </tr>\n",
              "    <tr>\n",
              "      <th>1</th>\n",
              "      <td>male</td>\n",
              "      <td>0.188908</td>\n",
              "    </tr>\n",
              "  </tbody>\n",
              "</table>\n",
              "</div>"
            ],
            "text/plain": [
              "      Sex  Survived\n",
              "0  female  0.742038\n",
              "1    male  0.188908"
            ]
          },
          "metadata": {
            "tags": []
          },
          "execution_count": 50
        }
      ]
    },
    {
      "cell_type": "code",
      "metadata": {
        "id": "ENm21H2ffgac",
        "colab_type": "code",
        "colab": {
          "base_uri": "https://localhost:8080/",
          "height": 0
        },
        "outputId": "0e773e50-5207-4d00-a479-ef9d302a2562"
      },
      "source": [
        "df[['SibSp','Survived']].groupby(['SibSp'], as_index=False).mean().sort_values(by='Survived',ascending=False)"
      ],
      "execution_count": 51,
      "outputs": [
        {
          "output_type": "execute_result",
          "data": {
            "text/html": [
              "<div>\n",
              "<style scoped>\n",
              "    .dataframe tbody tr th:only-of-type {\n",
              "        vertical-align: middle;\n",
              "    }\n",
              "\n",
              "    .dataframe tbody tr th {\n",
              "        vertical-align: top;\n",
              "    }\n",
              "\n",
              "    .dataframe thead th {\n",
              "        text-align: right;\n",
              "    }\n",
              "</style>\n",
              "<table border=\"1\" class=\"dataframe\">\n",
              "  <thead>\n",
              "    <tr style=\"text-align: right;\">\n",
              "      <th></th>\n",
              "      <th>SibSp</th>\n",
              "      <th>Survived</th>\n",
              "    </tr>\n",
              "  </thead>\n",
              "  <tbody>\n",
              "    <tr>\n",
              "      <th>1</th>\n",
              "      <td>1</td>\n",
              "      <td>0.535885</td>\n",
              "    </tr>\n",
              "    <tr>\n",
              "      <th>2</th>\n",
              "      <td>2</td>\n",
              "      <td>0.464286</td>\n",
              "    </tr>\n",
              "    <tr>\n",
              "      <th>0</th>\n",
              "      <td>0</td>\n",
              "      <td>0.345395</td>\n",
              "    </tr>\n",
              "    <tr>\n",
              "      <th>3</th>\n",
              "      <td>3</td>\n",
              "      <td>0.250000</td>\n",
              "    </tr>\n",
              "    <tr>\n",
              "      <th>4</th>\n",
              "      <td>4</td>\n",
              "      <td>0.166667</td>\n",
              "    </tr>\n",
              "    <tr>\n",
              "      <th>5</th>\n",
              "      <td>5</td>\n",
              "      <td>0.000000</td>\n",
              "    </tr>\n",
              "    <tr>\n",
              "      <th>6</th>\n",
              "      <td>8</td>\n",
              "      <td>0.000000</td>\n",
              "    </tr>\n",
              "  </tbody>\n",
              "</table>\n",
              "</div>"
            ],
            "text/plain": [
              "   SibSp  Survived\n",
              "1      1  0.535885\n",
              "2      2  0.464286\n",
              "0      0  0.345395\n",
              "3      3  0.250000\n",
              "4      4  0.166667\n",
              "5      5  0.000000\n",
              "6      8  0.000000"
            ]
          },
          "metadata": {
            "tags": []
          },
          "execution_count": 51
        }
      ]
    },
    {
      "cell_type": "code",
      "metadata": {
        "id": "it7sqsNOgtoK",
        "colab_type": "code",
        "colab": {
          "base_uri": "https://localhost:8080/",
          "height": 0
        },
        "outputId": "0db40d0d-7042-4179-a3b5-4973b934f083"
      },
      "source": [
        "#analyze by visulize\n",
        "g = sns.FacetGrid(df, col='Survived')\n",
        "g.map(plt.hist,'Age',bins=20)"
      ],
      "execution_count": 52,
      "outputs": [
        {
          "output_type": "execute_result",
          "data": {
            "text/plain": [
              "<seaborn.axisgrid.FacetGrid at 0x7f3ac4af2ac8>"
            ]
          },
          "metadata": {
            "tags": []
          },
          "execution_count": 52
        },
        {
          "output_type": "display_data",
          "data": {
            "image/png": "[encoded data removed]",
            "text/plain": [
              "<Figure size 432x216 with 2 Axes>"
            ]
          },
          "metadata": {
            "tags": [],
            "needs_background": "light"
          }
        }
      ]
    },
    {
      "cell_type": "markdown",
      "metadata": {
        "id": "Nn3NdWbxjBes",
        "colab_type": "text"
      },
      "source": [
        "##Feature Engineering"
      ]
    },
    {
      "cell_type": "code",
      "metadata": {
        "id": "-WqxbbsoiS3-",
        "colab_type": "code",
        "colab": {}
      },
      "source": [
        "from sklearn.impute import SimpleImputer\n",
        "from sklearn.preprocessing import OneHotEncoder"
      ],
      "execution_count": 53,
      "outputs": []
    },
    {
      "cell_type": "code",
      "metadata": {
        "id": "VHV6O1oklXsY",
        "colab_type": "code",
        "colab": {
          "base_uri": "https://localhost:8080/",
          "height": 1000
        },
        "outputId": "d3ac291c-219a-441b-ecbf-96b3b954ff0c"
      },
      "source": [
        "imp = SimpleImputer(strategy='mean')\n",
        "imp.fit_transform(df[['Age']])\n",
        "imp.fit_transform(dt[['Age','Fare']])"
      ],
      "execution_count": 54,
      "outputs": [
        {
          "output_type": "execute_result",
          "data": {
            "text/plain": [
              "array([[3.45000000e+01, 7.82920000e+00],\n",
              "       [4.70000000e+01, 7.00000000e+00],\n",
              "       [6.20000000e+01, 9.68750000e+00],\n",
              "       [2.70000000e+01, 8.66250000e+00],\n",
              "       [2.20000000e+01, 1.22875000e+01],\n",
              "       [1.40000000e+01, 9.22500000e+00],\n",
              "       [3.00000000e+01, 7.62920000e+00],\n",
              "       [2.60000000e+01, 2.90000000e+01],\n",
              "       [1.80000000e+01, 7.22920000e+00],\n",
              "       [2.10000000e+01, 2.41500000e+01],\n",
              "       [3.02725904e+01, 7.89580000e+00],\n",
              "       [4.60000000e+01, 2.60000000e+01],\n",
              "       [2.30000000e+01, 8.22667000e+01],\n",
              "       [6.30000000e+01, 2.60000000e+01],\n",
              "       [4.70000000e+01, 6.11750000e+01],\n",
              "       [2.40000000e+01, 2.77208000e+01],\n",
              "       [3.50000000e+01, 1.23500000e+01],\n",
              "       [2.10000000e+01, 7.22500000e+00],\n",
              "       [2.70000000e+01, 7.92500000e+00],\n",
              "       [4.50000000e+01, 7.22500000e+00],\n",
              "       [5.50000000e+01, 5.94000000e+01],\n",
              "       [9.00000000e+00, 3.17080000e+00],\n",
              "       [3.02725904e+01, 3.16833000e+01],\n",
              "       [2.10000000e+01, 6.13792000e+01],\n",
              "       [4.80000000e+01, 2.62375000e+02],\n",
              "       [5.00000000e+01, 1.45000000e+01],\n",
              "       [2.20000000e+01, 6.19792000e+01],\n",
              "       [2.25000000e+01, 7.22500000e+00],\n",
              "       [4.10000000e+01, 3.05000000e+01],\n",
              "       [3.02725904e+01, 2.16792000e+01],\n",
              "       [5.00000000e+01, 2.60000000e+01],\n",
              "       [2.40000000e+01, 3.15000000e+01],\n",
              "       [3.30000000e+01, 2.05750000e+01],\n",
              "       [3.02725904e+01, 2.34500000e+01],\n",
              "       [3.00000000e+01, 5.77500000e+01],\n",
              "       [1.85000000e+01, 7.22920000e+00],\n",
              "       [3.02725904e+01, 8.05000000e+00],\n",
              "       [2.10000000e+01, 8.66250000e+00],\n",
              "       [2.50000000e+01, 9.50000000e+00],\n",
              "       [3.02725904e+01, 5.64958000e+01],\n",
              "       [3.90000000e+01, 1.34167000e+01],\n",
              "       [3.02725904e+01, 2.65500000e+01],\n",
              "       [4.10000000e+01, 7.85000000e+00],\n",
              "       [3.00000000e+01, 1.30000000e+01],\n",
              "       [4.50000000e+01, 5.25542000e+01],\n",
              "       [2.50000000e+01, 7.92500000e+00],\n",
              "       [4.50000000e+01, 2.97000000e+01],\n",
              "       [3.02725904e+01, 7.75000000e+00],\n",
              "       [6.00000000e+01, 7.62917000e+01],\n",
              "       [3.60000000e+01, 1.59000000e+01],\n",
              "       [2.40000000e+01, 6.00000000e+01],\n",
              "       [2.70000000e+01, 1.50333000e+01],\n",
              "       [2.00000000e+01, 2.30000000e+01],\n",
              "       [2.80000000e+01, 2.63000000e+02],\n",
              "       [3.02725904e+01, 1.55792000e+01],\n",
              "       [1.00000000e+01, 2.91250000e+01],\n",
              "       [3.50000000e+01, 7.89580000e+00],\n",
              "       [2.50000000e+01, 7.65000000e+00],\n",
              "       [3.02725904e+01, 1.61000000e+01],\n",
              "       [3.60000000e+01, 2.62375000e+02],\n",
              "       [1.70000000e+01, 7.89580000e+00],\n",
              "       [3.20000000e+01, 1.35000000e+01],\n",
              "       [1.80000000e+01, 7.75000000e+00],\n",
              "       [2.20000000e+01, 7.72500000e+00],\n",
              "       [1.30000000e+01, 2.62375000e+02],\n",
              "       [3.02725904e+01, 2.10000000e+01],\n",
              "       [1.80000000e+01, 7.87920000e+00],\n",
              "       [4.70000000e+01, 4.24000000e+01],\n",
              "       [3.10000000e+01, 2.85375000e+01],\n",
              "       [6.00000000e+01, 2.63000000e+02],\n",
              "       [2.40000000e+01, 7.75000000e+00],\n",
              "       [2.10000000e+01, 7.89580000e+00],\n",
              "       [2.90000000e+01, 7.92500000e+00],\n",
              "       [2.85000000e+01, 2.77208000e+01],\n",
              "       [3.50000000e+01, 2.11500000e+02],\n",
              "       [3.25000000e+01, 2.11500000e+02],\n",
              "       [3.02725904e+01, 8.05000000e+00],\n",
              "       [5.50000000e+01, 2.57000000e+01],\n",
              "       [3.00000000e+01, 1.30000000e+01],\n",
              "       [2.40000000e+01, 7.75000000e+00],\n",
              "       [6.00000000e+00, 1.52458000e+01],\n",
              "       [6.70000000e+01, 2.21779200e+02],\n",
              "       [4.90000000e+01, 2.60000000e+01],\n",
              "       [3.02725904e+01, 7.89580000e+00],\n",
              "       [3.02725904e+01, 1.07083000e+01],\n",
              "       [3.02725904e+01, 1.44542000e+01],\n",
              "       [2.70000000e+01, 7.87920000e+00],\n",
              "       [1.80000000e+01, 8.05000000e+00],\n",
              "       [3.02725904e+01, 7.75000000e+00],\n",
              "       [2.00000000e+00, 2.30000000e+01],\n",
              "       [2.20000000e+01, 1.39000000e+01],\n",
              "       [3.02725904e+01, 7.77500000e+00],\n",
              "       [2.70000000e+01, 5.20000000e+01],\n",
              "       [3.02725904e+01, 8.05000000e+00],\n",
              "       [2.50000000e+01, 2.60000000e+01],\n",
              "       [2.50000000e+01, 7.79580000e+00],\n",
              "       [7.60000000e+01, 7.88500000e+01],\n",
              "       [2.90000000e+01, 7.92500000e+00],\n",
              "       [2.00000000e+01, 7.85420000e+00],\n",
              "       [3.30000000e+01, 8.05000000e+00],\n",
              "       [4.30000000e+01, 5.54417000e+01],\n",
              "       [2.70000000e+01, 2.60000000e+01],\n",
              "       [3.02725904e+01, 7.75000000e+00],\n",
              "       [2.60000000e+01, 7.77500000e+00],\n",
              "       [1.60000000e+01, 8.51670000e+00],\n",
              "       [2.80000000e+01, 2.25250000e+01],\n",
              "       [2.10000000e+01, 7.82080000e+00],\n",
              "       [3.02725904e+01, 7.75000000e+00],\n",
              "       [3.02725904e+01, 8.71250000e+00],\n",
              "       [1.85000000e+01, 1.30000000e+01],\n",
              "       [4.10000000e+01, 1.50458000e+01],\n",
              "       [3.02725904e+01, 7.77920000e+00],\n",
              "       [3.60000000e+01, 3.16792000e+01],\n",
              "       [1.85000000e+01, 7.28330000e+00],\n",
              "       [6.30000000e+01, 2.21779200e+02],\n",
              "       [1.80000000e+01, 1.44542000e+01],\n",
              "       [3.02725904e+01, 6.43750000e+00],\n",
              "       [1.00000000e+00, 1.67000000e+01],\n",
              "       [3.60000000e+01, 7.52417000e+01],\n",
              "       [2.90000000e+01, 2.60000000e+01],\n",
              "       [1.20000000e+01, 1.57500000e+01],\n",
              "       [3.02725904e+01, 7.75000000e+00],\n",
              "       [3.50000000e+01, 5.77500000e+01],\n",
              "       [2.80000000e+01, 7.25000000e+00],\n",
              "       [3.02725904e+01, 7.75000000e+00],\n",
              "       [1.70000000e+01, 1.61000000e+01],\n",
              "       [2.20000000e+01, 7.79580000e+00],\n",
              "       [3.02725904e+01, 2.32500000e+01],\n",
              "       [4.20000000e+01, 1.30000000e+01],\n",
              "       [2.40000000e+01, 8.05000000e+00],\n",
              "       [3.20000000e+01, 8.05000000e+00],\n",
              "       [5.30000000e+01, 2.85000000e+01],\n",
              "       [3.02725904e+01, 2.54667000e+01],\n",
              "       [3.02725904e+01, 6.43750000e+00],\n",
              "       [4.30000000e+01, 7.89580000e+00],\n",
              "       [2.40000000e+01, 7.85420000e+00],\n",
              "       [2.65000000e+01, 7.22500000e+00],\n",
              "       [2.60000000e+01, 1.30000000e+01],\n",
              "       [2.30000000e+01, 8.05000000e+00],\n",
              "       [4.00000000e+01, 4.69000000e+01],\n",
              "       [1.00000000e+01, 4.69000000e+01],\n",
              "       [3.30000000e+01, 1.51550000e+02],\n",
              "       [6.10000000e+01, 2.62375000e+02],\n",
              "       [2.80000000e+01, 2.60000000e+01],\n",
              "       [4.20000000e+01, 2.65500000e+01],\n",
              "       [3.10000000e+01, 1.80000000e+01],\n",
              "       [3.02725904e+01, 5.18625000e+01],\n",
              "       [2.20000000e+01, 8.05000000e+00],\n",
              "       [3.02725904e+01, 2.65500000e+01],\n",
              "       [3.00000000e+01, 2.60000000e+01],\n",
              "       [2.30000000e+01, 8.31583000e+01],\n",
              "       [3.02725904e+01, 7.89580000e+00],\n",
              "       [6.05000000e+01, 3.56271885e+01],\n",
              "       [3.60000000e+01, 1.21833000e+01],\n",
              "       [1.30000000e+01, 3.13875000e+01],\n",
              "       [2.40000000e+01, 7.55000000e+00],\n",
              "       [2.90000000e+01, 2.21779200e+02],\n",
              "       [2.30000000e+01, 7.85420000e+00],\n",
              "       [4.20000000e+01, 2.65500000e+01],\n",
              "       [2.60000000e+01, 1.37750000e+01],\n",
              "       [3.02725904e+01, 7.73330000e+00],\n",
              "       [7.00000000e+00, 1.52458000e+01],\n",
              "       [2.60000000e+01, 1.35000000e+01],\n",
              "       [3.02725904e+01, 7.00000000e+00],\n",
              "       [4.10000000e+01, 1.30000000e+01],\n",
              "       [2.60000000e+01, 2.20250000e+01],\n",
              "       [4.80000000e+01, 5.04958000e+01],\n",
              "       [1.80000000e+01, 3.43750000e+01],\n",
              "       [3.02725904e+01, 2.77208000e+01],\n",
              "       [2.20000000e+01, 8.96250000e+00],\n",
              "       [3.02725904e+01, 7.55000000e+00],\n",
              "       [2.70000000e+01, 7.22500000e+00],\n",
              "       [2.30000000e+01, 1.39000000e+01],\n",
              "       [3.02725904e+01, 7.22920000e+00],\n",
              "       [4.00000000e+01, 3.13875000e+01],\n",
              "       [1.50000000e+01, 3.90000000e+01],\n",
              "       [2.00000000e+01, 3.67500000e+01],\n",
              "       [5.40000000e+01, 5.54417000e+01],\n",
              "       [3.60000000e+01, 3.90000000e+01],\n",
              "       [6.40000000e+01, 8.31583000e+01],\n",
              "       [3.00000000e+01, 1.30000000e+01],\n",
              "       [3.70000000e+01, 8.31583000e+01],\n",
              "       [1.80000000e+01, 5.31000000e+01],\n",
              "       [3.02725904e+01, 7.75000000e+00],\n",
              "       [2.70000000e+01, 2.47520800e+02],\n",
              "       [4.00000000e+01, 1.60000000e+01],\n",
              "       [2.10000000e+01, 2.10000000e+01],\n",
              "       [1.70000000e+01, 8.05000000e+00],\n",
              "       [3.02725904e+01, 6.95500000e+01],\n",
              "       [4.00000000e+01, 1.30000000e+01],\n",
              "       [3.40000000e+01, 2.60000000e+01],\n",
              "       [3.02725904e+01, 2.60000000e+01],\n",
              "       [1.15000000e+01, 1.45000000e+01],\n",
              "       [6.10000000e+01, 1.23500000e+01],\n",
              "       [8.00000000e+00, 3.25000000e+01],\n",
              "       [3.30000000e+01, 7.85420000e+00],\n",
              "       [6.00000000e+00, 1.34500000e+02],\n",
              "       [1.80000000e+01, 7.77500000e+00],\n",
              "       [2.30000000e+01, 1.05000000e+01],\n",
              "       [3.02725904e+01, 8.11250000e+00],\n",
              "       [3.02725904e+01, 1.55000000e+01],\n",
              "       [3.30000000e-01, 1.44000000e+01],\n",
              "       [4.70000000e+01, 2.27525000e+02],\n",
              "       [8.00000000e+00, 2.60000000e+01],\n",
              "       [2.50000000e+01, 1.05000000e+01],\n",
              "       [3.02725904e+01, 2.57417000e+01],\n",
              "       [3.50000000e+01, 7.75000000e+00],\n",
              "       [2.40000000e+01, 1.05000000e+01],\n",
              "       [3.30000000e+01, 2.77208000e+01],\n",
              "       [2.50000000e+01, 7.89580000e+00],\n",
              "       [3.20000000e+01, 2.25250000e+01],\n",
              "       [3.02725904e+01, 7.05000000e+00],\n",
              "       [1.70000000e+01, 7.35000000e+01],\n",
              "       [6.00000000e+01, 2.60000000e+01],\n",
              "       [3.80000000e+01, 7.77500000e+00],\n",
              "       [4.20000000e+01, 4.25000000e+01],\n",
              "       [3.02725904e+01, 7.87920000e+00],\n",
              "       [5.70000000e+01, 1.64866700e+02],\n",
              "       [5.00000000e+01, 2.11500000e+02],\n",
              "       [3.02725904e+01, 8.05000000e+00],\n",
              "       [3.00000000e+01, 1.38583000e+01],\n",
              "       [2.10000000e+01, 8.05000000e+00],\n",
              "       [2.20000000e+01, 1.05000000e+01],\n",
              "       [2.10000000e+01, 7.79580000e+00],\n",
              "       [5.30000000e+01, 2.74458000e+01],\n",
              "       [3.02725904e+01, 1.52458000e+01],\n",
              "       [2.30000000e+01, 7.79580000e+00],\n",
              "       [3.02725904e+01, 7.75000000e+00],\n",
              "       [4.05000000e+01, 1.51000000e+01],\n",
              "       [3.60000000e+01, 1.30000000e+01],\n",
              "       [1.40000000e+01, 6.50000000e+01],\n",
              "       [2.10000000e+01, 2.65500000e+01],\n",
              "       [2.10000000e+01, 6.49580000e+00],\n",
              "       [3.02725904e+01, 7.87920000e+00],\n",
              "       [3.90000000e+01, 7.12833000e+01],\n",
              "       [2.00000000e+01, 7.85420000e+00],\n",
              "       [6.40000000e+01, 7.52500000e+01],\n",
              "       [2.00000000e+01, 7.22500000e+00],\n",
              "       [1.80000000e+01, 1.30000000e+01],\n",
              "       [4.80000000e+01, 1.06425000e+02],\n",
              "       [5.50000000e+01, 2.77208000e+01],\n",
              "       [4.50000000e+01, 3.00000000e+01],\n",
              "       [4.50000000e+01, 1.34500000e+02],\n",
              "       [3.02725904e+01, 7.88750000e+00],\n",
              "       [3.02725904e+01, 2.34500000e+01],\n",
              "       [4.10000000e+01, 5.18625000e+01],\n",
              "       [2.20000000e+01, 2.10000000e+01],\n",
              "       [4.20000000e+01, 3.25000000e+01],\n",
              "       [2.90000000e+01, 2.60000000e+01],\n",
              "       [3.02725904e+01, 1.44542000e+01],\n",
              "       [9.20000000e-01, 2.77500000e+01],\n",
              "       [2.00000000e+01, 7.92500000e+00],\n",
              "       [2.70000000e+01, 1.36779200e+02],\n",
              "       [2.40000000e+01, 9.32500000e+00],\n",
              "       [3.25000000e+01, 9.50000000e+00],\n",
              "       [3.02725904e+01, 7.55000000e+00],\n",
              "       [3.02725904e+01, 7.75000000e+00],\n",
              "       [2.80000000e+01, 8.05000000e+00],\n",
              "       [1.90000000e+01, 1.30000000e+01],\n",
              "       [2.10000000e+01, 7.77500000e+00],\n",
              "       [3.65000000e+01, 1.74000000e+01],\n",
              "       [2.10000000e+01, 7.85420000e+00],\n",
              "       [2.90000000e+01, 2.30000000e+01],\n",
              "       [1.00000000e+00, 1.21833000e+01],\n",
              "       [3.00000000e+01, 1.27375000e+01],\n",
              "       [3.02725904e+01, 7.89580000e+00],\n",
              "       [3.02725904e+01, 0.00000000e+00],\n",
              "       [3.02725904e+01, 7.55000000e+00],\n",
              "       [3.02725904e+01, 8.05000000e+00],\n",
              "       [1.70000000e+01, 8.66250000e+00],\n",
              "       [4.60000000e+01, 7.52417000e+01],\n",
              "       [3.02725904e+01, 7.75000000e+00],\n",
              "       [2.60000000e+01, 1.36779200e+02],\n",
              "       [3.02725904e+01, 1.55000000e+01],\n",
              "       [3.02725904e+01, 7.22500000e+00],\n",
              "       [2.00000000e+01, 2.60000000e+01],\n",
              "       [2.80000000e+01, 1.05000000e+01],\n",
              "       [4.00000000e+01, 2.60000000e+01],\n",
              "       [3.00000000e+01, 2.10000000e+01],\n",
              "       [2.20000000e+01, 1.05000000e+01],\n",
              "       [2.30000000e+01, 8.66250000e+00],\n",
              "       [7.50000000e-01, 1.37750000e+01],\n",
              "       [3.02725904e+01, 7.75000000e+00],\n",
              "       [9.00000000e+00, 1.52458000e+01],\n",
              "       [2.00000000e+00, 2.02125000e+01],\n",
              "       [3.60000000e+01, 7.25000000e+00],\n",
              "       [3.02725904e+01, 7.25000000e+00],\n",
              "       [2.40000000e+01, 8.22667000e+01],\n",
              "       [3.02725904e+01, 7.22920000e+00],\n",
              "       [3.02725904e+01, 8.05000000e+00],\n",
              "       [3.02725904e+01, 3.96000000e+01],\n",
              "       [3.00000000e+01, 6.95000000e+00],\n",
              "       [3.02725904e+01, 7.22920000e+00],\n",
              "       [5.30000000e+01, 8.18583000e+01],\n",
              "       [3.60000000e+01, 9.50000000e+00],\n",
              "       [2.60000000e+01, 7.89580000e+00],\n",
              "       [1.00000000e+00, 4.15792000e+01],\n",
              "       [3.02725904e+01, 2.16792000e+01],\n",
              "       [3.00000000e+01, 4.55000000e+01],\n",
              "       [2.90000000e+01, 7.85420000e+00],\n",
              "       [3.20000000e+01, 7.77500000e+00],\n",
              "       [3.02725904e+01, 1.50458000e+01],\n",
              "       [4.30000000e+01, 2.10000000e+01],\n",
              "       [2.40000000e+01, 8.66250000e+00],\n",
              "       [3.02725904e+01, 7.75000000e+00],\n",
              "       [6.40000000e+01, 2.65500000e+01],\n",
              "       [3.00000000e+01, 1.51550000e+02],\n",
              "       [8.30000000e-01, 9.35000000e+00],\n",
              "       [5.50000000e+01, 9.35000000e+01],\n",
              "       [4.50000000e+01, 1.41083000e+01],\n",
              "       [1.80000000e+01, 8.66250000e+00],\n",
              "       [2.20000000e+01, 7.22500000e+00],\n",
              "       [3.02725904e+01, 7.57500000e+00],\n",
              "       [3.70000000e+01, 7.75000000e+00],\n",
              "       [5.50000000e+01, 1.35633300e+02],\n",
              "       [1.70000000e+01, 7.73330000e+00],\n",
              "       [5.70000000e+01, 1.46520800e+02],\n",
              "       [1.90000000e+01, 1.05000000e+01],\n",
              "       [2.70000000e+01, 7.85420000e+00],\n",
              "       [2.20000000e+01, 3.15000000e+01],\n",
              "       [2.60000000e+01, 7.77500000e+00],\n",
              "       [2.50000000e+01, 7.22920000e+00],\n",
              "       [2.60000000e+01, 1.30000000e+01],\n",
              "       [3.30000000e+01, 2.65500000e+01],\n",
              "       [3.90000000e+01, 2.11337500e+02],\n",
              "       [2.30000000e+01, 7.05000000e+00],\n",
              "       [1.20000000e+01, 3.90000000e+01],\n",
              "       [4.60000000e+01, 7.92000000e+01],\n",
              "       [2.90000000e+01, 2.60000000e+01],\n",
              "       [2.10000000e+01, 1.30000000e+01],\n",
              "       [4.80000000e+01, 3.67500000e+01],\n",
              "       [3.90000000e+01, 2.97000000e+01],\n",
              "       [3.02725904e+01, 7.22500000e+00],\n",
              "       [1.90000000e+01, 1.57417000e+01],\n",
              "       [2.70000000e+01, 7.89580000e+00],\n",
              "       [3.00000000e+01, 2.60000000e+01],\n",
              "       [3.20000000e+01, 1.30000000e+01],\n",
              "       [3.90000000e+01, 7.22920000e+00],\n",
              "       [2.50000000e+01, 3.15000000e+01],\n",
              "       [3.02725904e+01, 7.22920000e+00],\n",
              "       [1.80000000e+01, 1.05000000e+01],\n",
              "       [3.20000000e+01, 7.57920000e+00],\n",
              "       [3.02725904e+01, 6.95500000e+01],\n",
              "       [5.80000000e+01, 5.12329200e+02],\n",
              "       [3.02725904e+01, 1.45000000e+01],\n",
              "       [1.60000000e+01, 7.65000000e+00],\n",
              "       [2.60000000e+01, 1.30000000e+01],\n",
              "       [3.80000000e+01, 7.22920000e+00],\n",
              "       [2.40000000e+01, 1.35000000e+01],\n",
              "       [3.10000000e+01, 2.10000000e+01],\n",
              "       [4.50000000e+01, 6.33583000e+01],\n",
              "       [2.50000000e+01, 1.05000000e+01],\n",
              "       [1.80000000e+01, 7.35000000e+01],\n",
              "       [4.90000000e+01, 6.50000000e+01],\n",
              "       [1.70000000e-01, 2.05750000e+01],\n",
              "       [5.00000000e+01, 2.60000000e+01],\n",
              "       [5.90000000e+01, 5.14792000e+01],\n",
              "       [3.02725904e+01, 7.87920000e+00],\n",
              "       [3.02725904e+01, 7.75000000e+00],\n",
              "       [3.00000000e+01, 1.55500000e+01],\n",
              "       [1.45000000e+01, 6.95500000e+01],\n",
              "       [2.40000000e+01, 3.70042000e+01],\n",
              "       [3.10000000e+01, 2.10000000e+01],\n",
              "       [2.70000000e+01, 8.66250000e+00],\n",
              "       [2.50000000e+01, 5.54417000e+01],\n",
              "       [3.02725904e+01, 6.95500000e+01],\n",
              "       [3.02725904e+01, 1.44583000e+01],\n",
              "       [2.20000000e+01, 3.96875000e+01],\n",
              "       [4.50000000e+01, 5.94000000e+01],\n",
              "       [2.90000000e+01, 1.38583000e+01],\n",
              "       [2.10000000e+01, 1.15000000e+01],\n",
              "       [3.10000000e+01, 1.34500000e+02],\n",
              "       [4.90000000e+01, 0.00000000e+00],\n",
              "       [4.40000000e+01, 1.30000000e+01],\n",
              "       [5.40000000e+01, 8.18583000e+01],\n",
              "       [4.50000000e+01, 2.62375000e+02],\n",
              "       [2.20000000e+01, 8.66250000e+00],\n",
              "       [2.10000000e+01, 1.15000000e+01],\n",
              "       [5.50000000e+01, 5.00000000e+01],\n",
              "       [5.00000000e+00, 3.13875000e+01],\n",
              "       [3.02725904e+01, 7.75000000e+00],\n",
              "       [2.60000000e+01, 7.87920000e+00],\n",
              "       [3.02725904e+01, 1.45000000e+01],\n",
              "       [1.90000000e+01, 1.61000000e+01],\n",
              "       [3.02725904e+01, 1.28750000e+01],\n",
              "       [2.40000000e+01, 6.50000000e+01],\n",
              "       [2.40000000e+01, 7.77500000e+00],\n",
              "       [5.70000000e+01, 1.30000000e+01],\n",
              "       [2.10000000e+01, 7.75000000e+00],\n",
              "       [6.00000000e+00, 2.10750000e+01],\n",
              "       [2.30000000e+01, 9.35000000e+01],\n",
              "       [5.10000000e+01, 3.94000000e+01],\n",
              "       [1.30000000e+01, 2.02500000e+01],\n",
              "       [4.70000000e+01, 1.05000000e+01],\n",
              "       [2.90000000e+01, 2.20250000e+01],\n",
              "       [1.80000000e+01, 6.00000000e+01],\n",
              "       [2.40000000e+01, 7.25000000e+00],\n",
              "       [4.80000000e+01, 7.92000000e+01],\n",
              "       [2.20000000e+01, 7.77500000e+00],\n",
              "       [3.10000000e+01, 7.73330000e+00],\n",
              "       [3.00000000e+01, 1.64866700e+02],\n",
              "       [3.80000000e+01, 2.10000000e+01],\n",
              "       [2.20000000e+01, 5.94000000e+01],\n",
              "       [1.70000000e+01, 4.71000000e+01],\n",
              "       [4.30000000e+01, 2.77208000e+01],\n",
              "       [2.00000000e+01, 1.38625000e+01],\n",
              "       [2.30000000e+01, 1.05000000e+01],\n",
              "       [5.00000000e+01, 2.11500000e+02],\n",
              "       [3.02725904e+01, 7.72080000e+00],\n",
              "       [3.00000000e+00, 1.37750000e+01],\n",
              "       [3.02725904e+01, 7.75000000e+00],\n",
              "       [3.70000000e+01, 9.00000000e+01],\n",
              "       [2.80000000e+01, 7.77500000e+00],\n",
              "       [3.02725904e+01, 8.05000000e+00],\n",
              "       [3.90000000e+01, 1.08900000e+02],\n",
              "       [3.85000000e+01, 7.25000000e+00],\n",
              "       [3.02725904e+01, 8.05000000e+00],\n",
              "       [3.02725904e+01, 2.23583000e+01]])"
            ]
          },
          "metadata": {
            "tags": []
          },
          "execution_count": 54
        }
      ]
    },
    {
      "cell_type": "code",
      "metadata": {
        "id": "fOWbEd6Izcfi",
        "colab_type": "code",
        "colab": {}
      },
      "source": [
        "ohn = OneHotEncoder(sparse=False, drop='first')\n",
        "m = ohn.fit_transform(df[['Sex']])\n",
        "m2 = ohn.fit_transform(dt[['Sex']])"
      ],
      "execution_count": 55,
      "outputs": []
    },
    {
      "cell_type": "code",
      "metadata": {
        "id": "TS44uGmBzjO4",
        "colab_type": "code",
        "colab": {}
      },
      "source": [
        "df['Age'] = imp.fit_transform(df[['Age']])\n",
        "dt[['Age','Fare']] = imp.fit_transform(dt[['Age','Fare']])"
      ],
      "execution_count": 56,
      "outputs": []
    },
    {
      "cell_type": "code",
      "metadata": {
        "id": "iX-lOla5zr6t",
        "colab_type": "code",
        "colab": {
          "base_uri": "https://localhost:8080/",
          "height": 255
        },
        "outputId": "fc5e0504-00a3-4115-984a-bb17300aca59"
      },
      "source": [
        "df['Sex'] = m\n",
        "df.head()"
      ],
      "execution_count": 57,
      "outputs": [
        {
          "output_type": "execute_result",
          "data": {
            "text/html": [
              "<div>\n",
              "<style scoped>\n",
              "    .dataframe tbody tr th:only-of-type {\n",
              "        vertical-align: middle;\n",
              "    }\n",
              "\n",
              "    .dataframe tbody tr th {\n",
              "        vertical-align: top;\n",
              "    }\n",
              "\n",
              "    .dataframe thead th {\n",
              "        text-align: right;\n",
              "    }\n",
              "</style>\n",
              "<table border=\"1\" class=\"dataframe\">\n",
              "  <thead>\n",
              "    <tr style=\"text-align: right;\">\n",
              "      <th></th>\n",
              "      <th>PassengerId</th>\n",
              "      <th>Survived</th>\n",
              "      <th>Pclass</th>\n",
              "      <th>Name</th>\n",
              "      <th>Sex</th>\n",
              "      <th>Age</th>\n",
              "      <th>SibSp</th>\n",
              "      <th>Parch</th>\n",
              "      <th>Ticket</th>\n",
              "      <th>Fare</th>\n",
              "      <th>Cabin</th>\n",
              "      <th>Embarked</th>\n",
              "    </tr>\n",
              "  </thead>\n",
              "  <tbody>\n",
              "    <tr>\n",
              "      <th>0</th>\n",
              "      <td>1</td>\n",
              "      <td>0</td>\n",
              "      <td>3</td>\n",
              "      <td>Braund, Mr. Owen Harris</td>\n",
              "      <td>1.0</td>\n",
              "      <td>22.0</td>\n",
              "      <td>1</td>\n",
              "      <td>0</td>\n",
              "      <td>A/5 21171</td>\n",
              "      <td>7.2500</td>\n",
              "      <td>NaN</td>\n",
              "      <td>S</td>\n",
              "    </tr>\n",
              "    <tr>\n",
              "      <th>1</th>\n",
              "      <td>2</td>\n",
              "      <td>1</td>\n",
              "      <td>1</td>\n",
              "      <td>Cumings, Mrs. John Bradley (Florence Briggs Th...</td>\n",
              "      <td>0.0</td>\n",
              "      <td>38.0</td>\n",
              "      <td>1</td>\n",
              "      <td>0</td>\n",
              "      <td>PC 17599</td>\n",
              "      <td>71.2833</td>\n",
              "      <td>C85</td>\n",
              "      <td>C</td>\n",
              "    </tr>\n",
              "    <tr>\n",
              "      <th>2</th>\n",
              "      <td>3</td>\n",
              "      <td>1</td>\n",
              "      <td>3</td>\n",
              "      <td>Heikkinen, Miss. Laina</td>\n",
              "      <td>0.0</td>\n",
              "      <td>26.0</td>\n",
              "      <td>0</td>\n",
              "      <td>0</td>\n",
              "      <td>STON/O2. 3101282</td>\n",
              "      <td>7.9250</td>\n",
              "      <td>NaN</td>\n",
              "      <td>S</td>\n",
              "    </tr>\n",
              "    <tr>\n",
              "      <th>3</th>\n",
              "      <td>4</td>\n",
              "      <td>1</td>\n",
              "      <td>1</td>\n",
              "      <td>Futrelle, Mrs. Jacques Heath (Lily May Peel)</td>\n",
              "      <td>0.0</td>\n",
              "      <td>35.0</td>\n",
              "      <td>1</td>\n",
              "      <td>0</td>\n",
              "      <td>113803</td>\n",
              "      <td>53.1000</td>\n",
              "      <td>C123</td>\n",
              "      <td>S</td>\n",
              "    </tr>\n",
              "    <tr>\n",
              "      <th>4</th>\n",
              "      <td>5</td>\n",
              "      <td>0</td>\n",
              "      <td>3</td>\n",
              "      <td>Allen, Mr. William Henry</td>\n",
              "      <td>1.0</td>\n",
              "      <td>35.0</td>\n",
              "      <td>0</td>\n",
              "      <td>0</td>\n",
              "      <td>373450</td>\n",
              "      <td>8.0500</td>\n",
              "      <td>NaN</td>\n",
              "      <td>S</td>\n",
              "    </tr>\n",
              "  </tbody>\n",
              "</table>\n",
              "</div>"
            ],
            "text/plain": [
              "   PassengerId  Survived  Pclass  ...     Fare  Cabin  Embarked\n",
              "0            1         0       3  ...   7.2500    NaN         S\n",
              "1            2         1       1  ...  71.2833    C85         C\n",
              "2            3         1       3  ...   7.9250    NaN         S\n",
              "3            4         1       1  ...  53.1000   C123         S\n",
              "4            5         0       3  ...   8.0500    NaN         S\n",
              "\n",
              "[5 rows x 12 columns]"
            ]
          },
          "metadata": {
            "tags": []
          },
          "execution_count": 57
        }
      ]
    },
    {
      "cell_type": "code",
      "metadata": {
        "id": "RO0jRY4Bzveg",
        "colab_type": "code",
        "colab": {}
      },
      "source": [
        "dt['Sex'] = m2"
      ],
      "execution_count": 58,
      "outputs": []
    },
    {
      "cell_type": "code",
      "metadata": {
        "id": "93FOUdmn8qcD",
        "colab_type": "code",
        "colab": {
          "base_uri": "https://localhost:8080/",
          "height": 255
        },
        "outputId": "a410153c-f0a1-43e3-8250-ea657c0b5650"
      },
      "source": [
        "df.head()"
      ],
      "execution_count": 59,
      "outputs": [
        {
          "output_type": "execute_result",
          "data": {
            "text/html": [
              "<div>\n",
              "<style scoped>\n",
              "    .dataframe tbody tr th:only-of-type {\n",
              "        vertical-align: middle;\n",
              "    }\n",
              "\n",
              "    .dataframe tbody tr th {\n",
              "        vertical-align: top;\n",
              "    }\n",
              "\n",
              "    .dataframe thead th {\n",
              "        text-align: right;\n",
              "    }\n",
              "</style>\n",
              "<table border=\"1\" class=\"dataframe\">\n",
              "  <thead>\n",
              "    <tr style=\"text-align: right;\">\n",
              "      <th></th>\n",
              "      <th>PassengerId</th>\n",
              "      <th>Survived</th>\n",
              "      <th>Pclass</th>\n",
              "      <th>Name</th>\n",
              "      <th>Sex</th>\n",
              "      <th>Age</th>\n",
              "      <th>SibSp</th>\n",
              "      <th>Parch</th>\n",
              "      <th>Ticket</th>\n",
              "      <th>Fare</th>\n",
              "      <th>Cabin</th>\n",
              "      <th>Embarked</th>\n",
              "    </tr>\n",
              "  </thead>\n",
              "  <tbody>\n",
              "    <tr>\n",
              "      <th>0</th>\n",
              "      <td>1</td>\n",
              "      <td>0</td>\n",
              "      <td>3</td>\n",
              "      <td>Braund, Mr. Owen Harris</td>\n",
              "      <td>1.0</td>\n",
              "      <td>22.0</td>\n",
              "      <td>1</td>\n",
              "      <td>0</td>\n",
              "      <td>A/5 21171</td>\n",
              "      <td>7.2500</td>\n",
              "      <td>NaN</td>\n",
              "      <td>S</td>\n",
              "    </tr>\n",
              "    <tr>\n",
              "      <th>1</th>\n",
              "      <td>2</td>\n",
              "      <td>1</td>\n",
              "      <td>1</td>\n",
              "      <td>Cumings, Mrs. John Bradley (Florence Briggs Th...</td>\n",
              "      <td>0.0</td>\n",
              "      <td>38.0</td>\n",
              "      <td>1</td>\n",
              "      <td>0</td>\n",
              "      <td>PC 17599</td>\n",
              "      <td>71.2833</td>\n",
              "      <td>C85</td>\n",
              "      <td>C</td>\n",
              "    </tr>\n",
              "    <tr>\n",
              "      <th>2</th>\n",
              "      <td>3</td>\n",
              "      <td>1</td>\n",
              "      <td>3</td>\n",
              "      <td>Heikkinen, Miss. Laina</td>\n",
              "      <td>0.0</td>\n",
              "      <td>26.0</td>\n",
              "      <td>0</td>\n",
              "      <td>0</td>\n",
              "      <td>STON/O2. 3101282</td>\n",
              "      <td>7.9250</td>\n",
              "      <td>NaN</td>\n",
              "      <td>S</td>\n",
              "    </tr>\n",
              "    <tr>\n",
              "      <th>3</th>\n",
              "      <td>4</td>\n",
              "      <td>1</td>\n",
              "      <td>1</td>\n",
              "      <td>Futrelle, Mrs. Jacques Heath (Lily May Peel)</td>\n",
              "      <td>0.0</td>\n",
              "      <td>35.0</td>\n",
              "      <td>1</td>\n",
              "      <td>0</td>\n",
              "      <td>113803</td>\n",
              "      <td>53.1000</td>\n",
              "      <td>C123</td>\n",
              "      <td>S</td>\n",
              "    </tr>\n",
              "    <tr>\n",
              "      <th>4</th>\n",
              "      <td>5</td>\n",
              "      <td>0</td>\n",
              "      <td>3</td>\n",
              "      <td>Allen, Mr. William Henry</td>\n",
              "      <td>1.0</td>\n",
              "      <td>35.0</td>\n",
              "      <td>0</td>\n",
              "      <td>0</td>\n",
              "      <td>373450</td>\n",
              "      <td>8.0500</td>\n",
              "      <td>NaN</td>\n",
              "      <td>S</td>\n",
              "    </tr>\n",
              "  </tbody>\n",
              "</table>\n",
              "</div>"
            ],
            "text/plain": [
              "   PassengerId  Survived  Pclass  ...     Fare  Cabin  Embarked\n",
              "0            1         0       3  ...   7.2500    NaN         S\n",
              "1            2         1       1  ...  71.2833    C85         C\n",
              "2            3         1       3  ...   7.9250    NaN         S\n",
              "3            4         1       1  ...  53.1000   C123         S\n",
              "4            5         0       3  ...   8.0500    NaN         S\n",
              "\n",
              "[5 rows x 12 columns]"
            ]
          },
          "metadata": {
            "tags": []
          },
          "execution_count": 59
        }
      ]
    },
    {
      "cell_type": "code",
      "metadata": {
        "id": "iDuXnrLP6c_F",
        "colab_type": "code",
        "colab": {}
      },
      "source": [
        "df.drop(columns=['PassengerId','Name','Cabin','Ticket','Embarked'], inplace=True)"
      ],
      "execution_count": 60,
      "outputs": []
    },
    {
      "cell_type": "code",
      "metadata": {
        "id": "7a_1q15l_BB6",
        "colab_type": "code",
        "colab": {
          "base_uri": "https://localhost:8080/",
          "height": 238
        },
        "outputId": "cacd0521-2de1-446d-dbd9-0c504e749ba6"
      },
      "source": [
        "from sklearn.preprocessing import scale\n",
        "scale(df)"
      ],
      "execution_count": 61,
      "outputs": [
        {
          "output_type": "execute_result",
          "data": {
            "text/plain": [
              "array([[-0.78927234,  0.82737724,  0.73769513, ...,  0.43279337,\n",
              "        -0.47367361, -0.50244517],\n",
              "       [ 1.2669898 , -1.56610693, -1.35557354, ...,  0.43279337,\n",
              "        -0.47367361,  0.78684529],\n",
              "       [ 1.2669898 ,  0.82737724, -1.35557354, ..., -0.4745452 ,\n",
              "        -0.47367361, -0.48885426],\n",
              "       ...,\n",
              "       [-0.78927234,  0.82737724, -1.35557354, ...,  0.43279337,\n",
              "         2.00893337, -0.17626324],\n",
              "       [ 1.2669898 , -1.56610693,  0.73769513, ..., -0.4745452 ,\n",
              "        -0.47367361, -0.04438104],\n",
              "       [-0.78927234,  0.82737724,  0.73769513, ..., -0.4745452 ,\n",
              "        -0.47367361, -0.49237783]])"
            ]
          },
          "metadata": {
            "tags": []
          },
          "execution_count": 61
        }
      ]
    },
    {
      "cell_type": "markdown",
      "metadata": {
        "id": "5PbXRDT5rUFF",
        "colab_type": "text"
      },
      "source": [
        "##Modeling"
      ]
    },
    {
      "cell_type": "code",
      "metadata": {
        "id": "KGEA6L1GrEfX",
        "colab_type": "code",
        "colab": {}
      },
      "source": [
        "from sklearn.linear_model import LogisticRegression"
      ],
      "execution_count": 62,
      "outputs": []
    },
    {
      "cell_type": "code",
      "metadata": {
        "id": "KJnogw3aru7k",
        "colab_type": "code",
        "colab": {
          "base_uri": "https://localhost:8080/",
          "height": 68
        },
        "outputId": "68bf6887-0868-411d-dd7c-fade4b734430"
      },
      "source": [
        "dt.columns"
      ],
      "execution_count": 63,
      "outputs": [
        {
          "output_type": "execute_result",
          "data": {
            "text/plain": [
              "Index(['PassengerId', 'Pclass', 'Name', 'Sex', 'Age', 'SibSp', 'Parch',\n",
              "       'Ticket', 'Fare', 'Cabin', 'Embarked'],\n",
              "      dtype='object')"
            ]
          },
          "metadata": {
            "tags": []
          },
          "execution_count": 63
        }
      ]
    },
    {
      "cell_type": "code",
      "metadata": {
        "id": "eC1gjKHxrq-V",
        "colab_type": "code",
        "colab": {}
      },
      "source": [
        "X = df[['Pclass', 'Sex', 'Age', 'SibSp',\n",
        "       'Parch', 'Fare']]\n",
        "X_test = dt[['Pclass', 'Sex', 'Age', 'SibSp',\n",
        "       'Parch', 'Fare']]\n",
        "y = df['Survived']\n",
        "y_test = dy[['Survived']]"
      ],
      "execution_count": 64,
      "outputs": []
    },
    {
      "cell_type": "code",
      "metadata": {
        "id": "nNWUJISorgp2",
        "colab_type": "code",
        "colab": {
          "base_uri": "https://localhost:8080/",
          "height": 102
        },
        "outputId": "9dab1d52-c2be-4e46-9b65-bc6b1b5a0d35"
      },
      "source": [
        "model = LogisticRegression()\n",
        "model"
      ],
      "execution_count": 65,
      "outputs": [
        {
          "output_type": "execute_result",
          "data": {
            "text/plain": [
              "LogisticRegression(C=1.0, class_weight=None, dual=False, fit_intercept=True,\n",
              "                   intercept_scaling=1, l1_ratio=None, max_iter=100,\n",
              "                   multi_class='auto', n_jobs=None, penalty='l2',\n",
              "                   random_state=None, solver='lbfgs', tol=0.0001, verbose=0,\n",
              "                   warm_start=False)"
            ]
          },
          "metadata": {
            "tags": []
          },
          "execution_count": 65
        }
      ]
    },
    {
      "cell_type": "code",
      "metadata": {
        "id": "ZM38S4C_rnhN",
        "colab_type": "code",
        "colab": {
          "base_uri": "https://localhost:8080/",
          "height": 102
        },
        "outputId": "41e24965-02a0-484e-8bb1-dd3817385bfd"
      },
      "source": [
        "model.fit(X,y)"
      ],
      "execution_count": 66,
      "outputs": [
        {
          "output_type": "execute_result",
          "data": {
            "text/plain": [
              "LogisticRegression(C=1.0, class_weight=None, dual=False, fit_intercept=True,\n",
              "                   intercept_scaling=1, l1_ratio=None, max_iter=100,\n",
              "                   multi_class='auto', n_jobs=None, penalty='l2',\n",
              "                   random_state=None, solver='lbfgs', tol=0.0001, verbose=0,\n",
              "                   warm_start=False)"
            ]
          },
          "metadata": {
            "tags": []
          },
          "execution_count": 66
        }
      ]
    },
    {
      "cell_type": "code",
      "metadata": {
        "id": "KL2oH4skuu__",
        "colab_type": "code",
        "colab": {}
      },
      "source": [
        "ypred = model.predict(X_test)"
      ],
      "execution_count": 67,
      "outputs": []
    },
    {
      "cell_type": "code",
      "metadata": {
        "id": "RiD2E-BO-W-p",
        "colab_type": "code",
        "colab": {
          "base_uri": "https://localhost:8080/",
          "height": 34
        },
        "outputId": "358dfd68-97ce-4b45-acdd-96bf4f262a7a"
      },
      "source": [
        "model.score(X_test,y_test)"
      ],
      "execution_count": 68,
      "outputs": [
        {
          "output_type": "execute_result",
          "data": {
            "text/plain": [
              "0.9449760765550239"
            ]
          },
          "metadata": {
            "tags": []
          },
          "execution_count": 68
        }
      ]
    },
    {
      "cell_type": "code",
      "metadata": {
        "id": "cH6ZRPOJ-a8c",
        "colab_type": "code",
        "colab": {}
      },
      "source": [
        "o= pd.DataFrame(y_test)"
      ],
      "execution_count": 69,
      "outputs": []
    },
    {
      "cell_type": "code",
      "metadata": {
        "id": "zV0xcdp8hqfU",
        "colab_type": "code",
        "colab": {}
      },
      "source": [
        "#compare\n",
        "q = pd.DataFrame(ypred)"
      ],
      "execution_count": 70,
      "outputs": []
    },
    {
      "cell_type": "code",
      "metadata": {
        "id": "ErkBepicipWm",
        "colab_type": "code",
        "colab": {
          "base_uri": "https://localhost:8080/",
          "height": 419
        },
        "outputId": "168610a9-4669-4892-e526-08305aa70c2d"
      },
      "source": [
        "q.rename(columns = {0:'Survived2'}, inplace=True)\n",
        "q"
      ],
      "execution_count": 71,
      "outputs": [
        {
          "output_type": "execute_result",
          "data": {
            "text/html": [
              "<div>\n",
              "<style scoped>\n",
              "    .dataframe tbody tr th:only-of-type {\n",
              "        vertical-align: middle;\n",
              "    }\n",
              "\n",
              "    .dataframe tbody tr th {\n",
              "        vertical-align: top;\n",
              "    }\n",
              "\n",
              "    .dataframe thead th {\n",
              "        text-align: right;\n",
              "    }\n",
              "</style>\n",
              "<table border=\"1\" class=\"dataframe\">\n",
              "  <thead>\n",
              "    <tr style=\"text-align: right;\">\n",
              "      <th></th>\n",
              "      <th>Survived2</th>\n",
              "    </tr>\n",
              "  </thead>\n",
              "  <tbody>\n",
              "    <tr>\n",
              "      <th>0</th>\n",
              "      <td>0</td>\n",
              "    </tr>\n",
              "    <tr>\n",
              "      <th>1</th>\n",
              "      <td>0</td>\n",
              "    </tr>\n",
              "    <tr>\n",
              "      <th>2</th>\n",
              "      <td>0</td>\n",
              "    </tr>\n",
              "    <tr>\n",
              "      <th>3</th>\n",
              "      <td>0</td>\n",
              "    </tr>\n",
              "    <tr>\n",
              "      <th>4</th>\n",
              "      <td>1</td>\n",
              "    </tr>\n",
              "    <tr>\n",
              "      <th>...</th>\n",
              "      <td>...</td>\n",
              "    </tr>\n",
              "    <tr>\n",
              "      <th>413</th>\n",
              "      <td>0</td>\n",
              "    </tr>\n",
              "    <tr>\n",
              "      <th>414</th>\n",
              "      <td>1</td>\n",
              "    </tr>\n",
              "    <tr>\n",
              "      <th>415</th>\n",
              "      <td>0</td>\n",
              "    </tr>\n",
              "    <tr>\n",
              "      <th>416</th>\n",
              "      <td>0</td>\n",
              "    </tr>\n",
              "    <tr>\n",
              "      <th>417</th>\n",
              "      <td>0</td>\n",
              "    </tr>\n",
              "  </tbody>\n",
              "</table>\n",
              "<p>418 rows × 1 columns</p>\n",
              "</div>"
            ],
            "text/plain": [
              "     Survived2\n",
              "0            0\n",
              "1            0\n",
              "2            0\n",
              "3            0\n",
              "4            1\n",
              "..         ...\n",
              "413          0\n",
              "414          1\n",
              "415          0\n",
              "416          0\n",
              "417          0\n",
              "\n",
              "[418 rows x 1 columns]"
            ]
          },
          "metadata": {
            "tags": []
          },
          "execution_count": 71
        }
      ]
    },
    {
      "cell_type": "code",
      "metadata": {
        "id": "AuDTTzhki4Rn",
        "colab_type": "code",
        "colab": {
          "base_uri": "https://localhost:8080/",
          "height": 419
        },
        "outputId": "2678543c-e07c-44a7-aae8-d2729b91fe5d"
      },
      "source": [
        "o.rename(columns = {0:'Survived'}, inplace=True)\n",
        "o"
      ],
      "execution_count": 72,
      "outputs": [
        {
          "output_type": "execute_result",
          "data": {
            "text/html": [
              "<div>\n",
              "<style scoped>\n",
              "    .dataframe tbody tr th:only-of-type {\n",
              "        vertical-align: middle;\n",
              "    }\n",
              "\n",
              "    .dataframe tbody tr th {\n",
              "        vertical-align: top;\n",
              "    }\n",
              "\n",
              "    .dataframe thead th {\n",
              "        text-align: right;\n",
              "    }\n",
              "</style>\n",
              "<table border=\"1\" class=\"dataframe\">\n",
              "  <thead>\n",
              "    <tr style=\"text-align: right;\">\n",
              "      <th></th>\n",
              "      <th>Survived</th>\n",
              "    </tr>\n",
              "  </thead>\n",
              "  <tbody>\n",
              "    <tr>\n",
              "      <th>0</th>\n",
              "      <td>0</td>\n",
              "    </tr>\n",
              "    <tr>\n",
              "      <th>1</th>\n",
              "      <td>1</td>\n",
              "    </tr>\n",
              "    <tr>\n",
              "      <th>2</th>\n",
              "      <td>0</td>\n",
              "    </tr>\n",
              "    <tr>\n",
              "      <th>3</th>\n",
              "      <td>0</td>\n",
              "    </tr>\n",
              "    <tr>\n",
              "      <th>4</th>\n",
              "      <td>1</td>\n",
              "    </tr>\n",
              "    <tr>\n",
              "      <th>...</th>\n",
              "      <td>...</td>\n",
              "    </tr>\n",
              "    <tr>\n",
              "      <th>413</th>\n",
              "      <td>0</td>\n",
              "    </tr>\n",
              "    <tr>\n",
              "      <th>414</th>\n",
              "      <td>1</td>\n",
              "    </tr>\n",
              "    <tr>\n",
              "      <th>415</th>\n",
              "      <td>0</td>\n",
              "    </tr>\n",
              "    <tr>\n",
              "      <th>416</th>\n",
              "      <td>0</td>\n",
              "    </tr>\n",
              "    <tr>\n",
              "      <th>417</th>\n",
              "      <td>0</td>\n",
              "    </tr>\n",
              "  </tbody>\n",
              "</table>\n",
              "<p>418 rows × 1 columns</p>\n",
              "</div>"
            ],
            "text/plain": [
              "     Survived\n",
              "0           0\n",
              "1           1\n",
              "2           0\n",
              "3           0\n",
              "4           1\n",
              "..        ...\n",
              "413         0\n",
              "414         1\n",
              "415         0\n",
              "416         0\n",
              "417         0\n",
              "\n",
              "[418 rows x 1 columns]"
            ]
          },
          "metadata": {
            "tags": []
          },
          "execution_count": 72
        }
      ]
    },
    {
      "cell_type": "code",
      "metadata": {
        "id": "KPM93u8RirO4",
        "colab_type": "code",
        "colab": {
          "base_uri": "https://localhost:8080/",
          "height": 419
        },
        "outputId": "ba8b4991-9b34-4710-d623-5fc060573707"
      },
      "source": [
        "pd.concat([o,q], axis= 1)"
      ],
      "execution_count": 73,
      "outputs": [
        {
          "output_type": "execute_result",
          "data": {
            "text/html": [
              "<div>\n",
              "<style scoped>\n",
              "    .dataframe tbody tr th:only-of-type {\n",
              "        vertical-align: middle;\n",
              "    }\n",
              "\n",
              "    .dataframe tbody tr th {\n",
              "        vertical-align: top;\n",
              "    }\n",
              "\n",
              "    .dataframe thead th {\n",
              "        text-align: right;\n",
              "    }\n",
              "</style>\n",
              "<table border=\"1\" class=\"dataframe\">\n",
              "  <thead>\n",
              "    <tr style=\"text-align: right;\">\n",
              "      <th></th>\n",
              "      <th>Survived</th>\n",
              "      <th>Survived2</th>\n",
              "    </tr>\n",
              "  </thead>\n",
              "  <tbody>\n",
              "    <tr>\n",
              "      <th>0</th>\n",
              "      <td>0</td>\n",
              "      <td>0</td>\n",
              "    </tr>\n",
              "    <tr>\n",
              "      <th>1</th>\n",
              "      <td>1</td>\n",
              "      <td>0</td>\n",
              "    </tr>\n",
              "    <tr>\n",
              "      <th>2</th>\n",
              "      <td>0</td>\n",
              "      <td>0</td>\n",
              "    </tr>\n",
              "    <tr>\n",
              "      <th>3</th>\n",
              "      <td>0</td>\n",
              "      <td>0</td>\n",
              "    </tr>\n",
              "    <tr>\n",
              "      <th>4</th>\n",
              "      <td>1</td>\n",
              "      <td>1</td>\n",
              "    </tr>\n",
              "    <tr>\n",
              "      <th>...</th>\n",
              "      <td>...</td>\n",
              "      <td>...</td>\n",
              "    </tr>\n",
              "    <tr>\n",
              "      <th>413</th>\n",
              "      <td>0</td>\n",
              "      <td>0</td>\n",
              "    </tr>\n",
              "    <tr>\n",
              "      <th>414</th>\n",
              "      <td>1</td>\n",
              "      <td>1</td>\n",
              "    </tr>\n",
              "    <tr>\n",
              "      <th>415</th>\n",
              "      <td>0</td>\n",
              "      <td>0</td>\n",
              "    </tr>\n",
              "    <tr>\n",
              "      <th>416</th>\n",
              "      <td>0</td>\n",
              "      <td>0</td>\n",
              "    </tr>\n",
              "    <tr>\n",
              "      <th>417</th>\n",
              "      <td>0</td>\n",
              "      <td>0</td>\n",
              "    </tr>\n",
              "  </tbody>\n",
              "</table>\n",
              "<p>418 rows × 2 columns</p>\n",
              "</div>"
            ],
            "text/plain": [
              "     Survived  Survived2\n",
              "0           0          0\n",
              "1           1          0\n",
              "2           0          0\n",
              "3           0          0\n",
              "4           1          1\n",
              "..        ...        ...\n",
              "413         0          0\n",
              "414         1          1\n",
              "415         0          0\n",
              "416         0          0\n",
              "417         0          0\n",
              "\n",
              "[418 rows x 2 columns]"
            ]
          },
          "metadata": {
            "tags": []
          },
          "execution_count": 73
        }
      ]
    },
    {
      "cell_type": "code",
      "metadata": {
        "id": "YRahrxpliwx2",
        "colab_type": "code",
        "colab": {}
      },
      "source": [
        "send = pd.concat([dt['PassengerId'],q], axis= 1)\n",
        "finish = send.set_index('PassengerId')"
      ],
      "execution_count": 74,
      "outputs": []
    },
    {
      "cell_type": "code",
      "metadata": {
        "id": "RjhfMf2hj915",
        "colab_type": "code",
        "colab": {
          "base_uri": "https://localhost:8080/",
          "height": 17
        },
        "outputId": "ddfdff11-04b6-4f7a-e394-6d7e200c8b45"
      },
      "source": [
        "from google.colab import files\n",
        "finish.to_csv('filename.csv') \n",
        "files.download('filename.csv')"
      ],
      "execution_count": 75,
      "outputs": [
        {
          "output_type": "display_data",
          "data": {
            "application/javascript": [
              "\n",
              "    async function download(id, filename, size) {\n",
              "      if (!google.colab.kernel.accessAllowed) {\n",
              "        return;\n",
              "      }\n",
              "      const div = document.createElement('div');\n",
              "      const label = document.createElement('label');\n",
              "      label.textContent = `Downloading \"${filename}\": `;\n",
              "      div.appendChild(label);\n",
              "      const progress = document.createElement('progress');\n",
              "      progress.max = size;\n",
              "      div.appendChild(progress);\n",
              "      document.body.appendChild(div);\n",
              "\n",
              "      const buffers = [];\n",
              "      let downloaded = 0;\n",
              "\n",
              "      const channel = await google.colab.kernel.comms.open(id);\n",
              "      // Send a message to notify the kernel that we're ready.\n",
              "      channel.send({})\n",
              "\n",
              "      for await (const message of channel.messages) {\n",
              "        // Send a message to notify the kernel that we're ready.\n",
              "        channel.send({})\n",
              "        if (message.buffers) {\n",
              "          for (const buffer of message.buffers) {\n",
              "            buffers.push(buffer);\n",
              "            downloaded += buffer.byteLength;\n",
              "            progress.value = downloaded;\n",
              "          }\n",
              "        }\n",
              "      }\n",
              "      const blob = new Blob(buffers, {type: 'application/binary'});\n",
              "      const a = document.createElement('a');\n",
              "      a.href = window.URL.createObjectURL(blob);\n",
              "      a.download = filename;\n",
              "      div.appendChild(a);\n",
              "      a.click();\n",
              "      div.remove();\n",
              "    }\n",
              "  "
            ],
            "text/plain": [
              "<IPython.core.display.Javascript object>"
            ]
          },
          "metadata": {
            "tags": []
          }
        },
        {
          "output_type": "display_data",
          "data": {
            "application/javascript": [
              "download(\"download_adf06028-7622-4d85-9846-6771e3d7bb16\", \"filename.csv\", 2840)"
            ],
            "text/plain": [
              "<IPython.core.display.Javascript object>"
            ]
          },
          "metadata": {
            "tags": []
          }
        }
      ]
    }
  ]
}